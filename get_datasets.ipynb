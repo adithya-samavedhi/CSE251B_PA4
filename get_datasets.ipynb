{
 "cells": [
  {
   "cell_type": "code",
   "execution_count": 4,
   "metadata": {},
   "outputs": [],
   "source": [
    "import csv\n",
    "import random\n",
    "from shutil import copyfile\n",
    "from pycocotools.coco import COCO\n",
    "from tqdm import tqdm"
   ]
  },
  {
   "cell_type": "code",
   "execution_count": 6,
   "metadata": {},
   "outputs": [
    {
     "name": "stdout",
     "output_type": "stream",
     "text": [
      "mkdir: data: File exists\n",
      "Archive:  ./data/annotations_trainval2014.zip\n",
      "  inflating: ./data/annotations/instances_train2014.json  \n",
      "  inflating: ./data/annotations/instances_val2014.json  \n",
      "  inflating: ./data/annotations/person_keypoints_train2014.json  \n",
      "  inflating: ./data/annotations/person_keypoints_val2014.json  \n",
      "  inflating: ./data/annotations/captions_train2014.json  \n",
      "  inflating: ./data/annotations/captions_val2014.json  \n"
     ]
    }
   ],
   "source": [
    "#make directory and get annotations for training and testing\n",
    "!mkdir data\n",
    "# !wget http://msvocds.blob.core.windows.net/annotations-1-0-3/captions_train-val2014.zip -P ./data/\n",
    "# !wget http://images.cocodataset.org/annotations/annotations_trainval2014.zip -P ./data/\n",
    "\n",
    "!unzip ./data/annotations_trainval2014.zip -d ./data/\n",
    "!rm ./data/annotations_trainval2014.zip"
   ]
  },
  {
   "cell_type": "code",
   "execution_count": 7,
   "metadata": {},
   "outputs": [],
   "source": [
    "!mkdir data/images\n",
    "!mkdir data/images/train\n",
    "!mkdir data/images/val\n",
    "!mkdir data/images/test"
   ]
  },
  {
   "cell_type": "code",
   "execution_count": 8,
   "metadata": {},
   "outputs": [
    {
     "name": "stdout",
     "output_type": "stream",
     "text": [
      "loading annotations into memory...\n",
      "Done (t=0.80s)\n",
      "creating index...\n",
      "index created!\n"
     ]
    }
   ],
   "source": [
    "coco = COCO('./data/annotations/captions_train2014.json')"
   ]
  },
  {
   "cell_type": "code",
   "execution_count": 13,
   "metadata": {},
   "outputs": [],
   "source": [
    "#get ids of training images\n",
    "with open('train_ids.csv', 'r') as f:\n",
    "    reader = csv.reader(f)\n",
    "    trainIds = list(reader)\n",
    "    \n",
    "trainIds = [int(i) for i in trainIds[0]]\n",
    "trainIds = trainIds[:11000]\n",
    "# trainIds = trainIds[:11000]\n",
    "with open('val_ids.csv', 'r') as f:\n",
    "    reader = csv.reader(f)\n",
    "    valIds = list(reader)\n",
    "    \n",
    "valIds = [int(i) for i in valIds[0]]"
   ]
  },
  {
   "cell_type": "code",
   "execution_count": 14,
   "metadata": {},
   "outputs": [
    {
     "ename": "FileNotFoundError",
     "evalue": "[Errno 2] No such file or directory: '/datasets/COCO-2015/train2014/COCO_train2014_000000579999.jpg'",
     "output_type": "error",
     "traceback": [
      "\u001b[0;31m---------------------------------------------------------------------------\u001b[0m",
      "\u001b[0;31mFileNotFoundError\u001b[0m                         Traceback (most recent call last)",
      "Cell \u001b[0;32mIn[14], line 3\u001b[0m\n\u001b[1;32m      1\u001b[0m \u001b[39mfor\u001b[39;00m img_id \u001b[39min\u001b[39;00m trainIds:\n\u001b[1;32m      2\u001b[0m     path \u001b[39m=\u001b[39m coco\u001b[39m.\u001b[39mloadImgs(img_id)[\u001b[39m0\u001b[39m][\u001b[39m'\u001b[39m\u001b[39mfile_name\u001b[39m\u001b[39m'\u001b[39m]\n\u001b[0;32m----> 3\u001b[0m     copyfile(\u001b[39m'\u001b[39;49m\u001b[39m/datasets/COCO-2015/train2014/\u001b[39;49m\u001b[39m'\u001b[39;49m\u001b[39m+\u001b[39;49mpath, \u001b[39m'\u001b[39;49m\u001b[39m./data/images/train/\u001b[39;49m\u001b[39m'\u001b[39;49m\u001b[39m+\u001b[39;49mpath)\n\u001b[1;32m      4\u001b[0m \u001b[39mfor\u001b[39;00m img_id \u001b[39min\u001b[39;00m valIds:\n\u001b[1;32m      5\u001b[0m     path \u001b[39m=\u001b[39m coco\u001b[39m.\u001b[39mloadImgs(img_id)[\u001b[39m0\u001b[39m][\u001b[39m'\u001b[39m\u001b[39mfile_name\u001b[39m\u001b[39m'\u001b[39m]\n",
      "File \u001b[0;32m~/anaconda3/envs/cse251b/lib/python3.8/shutil.py:264\u001b[0m, in \u001b[0;36mcopyfile\u001b[0;34m(src, dst, follow_symlinks)\u001b[0m\n\u001b[1;32m    262\u001b[0m     os\u001b[39m.\u001b[39msymlink(os\u001b[39m.\u001b[39mreadlink(src), dst)\n\u001b[1;32m    263\u001b[0m \u001b[39melse\u001b[39;00m:\n\u001b[0;32m--> 264\u001b[0m     \u001b[39mwith\u001b[39;00m \u001b[39mopen\u001b[39;49m(src, \u001b[39m'\u001b[39;49m\u001b[39mrb\u001b[39;49m\u001b[39m'\u001b[39;49m) \u001b[39mas\u001b[39;00m fsrc, \u001b[39mopen\u001b[39m(dst, \u001b[39m'\u001b[39m\u001b[39mwb\u001b[39m\u001b[39m'\u001b[39m) \u001b[39mas\u001b[39;00m fdst:\n\u001b[1;32m    265\u001b[0m         \u001b[39m# macOS\u001b[39;00m\n\u001b[1;32m    266\u001b[0m         \u001b[39mif\u001b[39;00m _HAS_FCOPYFILE:\n\u001b[1;32m    267\u001b[0m             \u001b[39mtry\u001b[39;00m:\n",
      "\u001b[0;31mFileNotFoundError\u001b[0m: [Errno 2] No such file or directory: '/datasets/COCO-2015/train2014/COCO_train2014_000000579999.jpg'"
     ]
    }
   ],
   "source": [
    "for img_id in trainIds:\n",
    "    path = coco.loadImgs(img_id)[0]['file_name']\n",
    "    copyfile('/datasets/COCO-2015/train2014/'+path, './data/images/train/'+path)\n",
    "for img_id in valIds:\n",
    "    path = coco.loadImgs(img_id)[0]['file_name']\n",
    "    copyfile('/datasets/COCO-2015/train2014/'+path, './data/images/val/'+path)"
   ]
  },
  {
   "cell_type": "code",
   "execution_count": 14,
   "metadata": {},
   "outputs": [
    {
     "name": "stdout",
     "output_type": "stream",
     "text": [
      "loading annotations into memory...\n",
      "Done (t=0.41s)\n",
      "creating index...\n",
      "index created!\n"
     ]
    }
   ],
   "source": [
    "cocoTest = COCO('./data/annotations/captions_val2014.json')"
   ]
  },
  {
   "cell_type": "code",
   "execution_count": 15,
   "metadata": {},
   "outputs": [],
   "source": [
    "with open('test_ids.csv', 'r') as f:\n",
    "    reader = csv.reader(f)\n",
    "    testIds = list(reader)\n",
    "    \n",
    "testIds = [int(i) for i in testIds[0]]"
   ]
  },
  {
   "cell_type": "code",
   "execution_count": 16,
   "metadata": {},
   "outputs": [],
   "source": [
    "for img_id in testIds:\n",
    "    path = cocoTest.loadImgs(img_id)[0]['file_name']\n",
    "    copyfile('/datasets/COCO-2015/val2014/'+path, './data/images/test/'+path)"
   ]
  },
  {
   "cell_type": "code",
   "execution_count": 17,
   "metadata": {},
   "outputs": [
    {
     "name": "stdout",
     "output_type": "stream",
     "text": [
      "done\n"
     ]
    }
   ],
   "source": [
    "print(\"done\")"
   ]
  },
  {
   "cell_type": "code",
   "execution_count": null,
   "metadata": {},
   "outputs": [],
   "source": []
  }
 ],
 "metadata": {
  "kernelspec": {
   "display_name": "cse251b",
   "language": "python",
   "name": "python3"
  },
  "language_info": {
   "codemirror_mode": {
    "name": "ipython",
    "version": 3
   },
   "file_extension": ".py",
   "mimetype": "text/x-python",
   "name": "python",
   "nbconvert_exporter": "python",
   "pygments_lexer": "ipython3",
   "version": "3.8.16"
  },
  "vscode": {
   "interpreter": {
    "hash": "981841ff66d5692ecf54c73c337766cfe3036982497a0eaceeaf1fd25ccdf576"
   }
  }
 },
 "nbformat": 4,
 "nbformat_minor": 2
}
