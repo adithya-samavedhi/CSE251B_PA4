{
 "cells": [
  {
   "cell_type": "code",
   "execution_count": 1,
   "metadata": {},
   "outputs": [],
   "source": [
    "import csv\n",
    "import random\n",
    "from shutil import copyfile\n",
    "from pycocotools.coco import COCO\n",
    "from tqdm import tqdm"
   ]
  },
  {
   "cell_type": "code",
   "execution_count": 3,
   "metadata": {},
   "outputs": [
    {
     "name": "stdout",
     "output_type": "stream",
     "text": [
      "mkdir: cannot create directory ‘data’: File exists\n",
      "--2023-03-04 08:17:09--  http://images.cocodataset.org/annotations/annotations_trainval2014.zip\n",
      "Resolving images.cocodataset.org (images.cocodataset.org)... 54.231.193.177, 52.216.48.33, 52.217.38.132, ...\n",
      "Connecting to images.cocodataset.org (images.cocodataset.org)|54.231.193.177|:80... connected.\n",
      "HTTP request sent, awaiting response... 200 OK\n",
      "Length: 252872794 (241M) [application/zip]\n",
      "Saving to: ‘./data/annotations_trainval2014.zip’\n",
      "\n",
      "annotations_trainva 100%[===================>] 241.16M  4.75MB/s    in 55s     \n",
      "\n",
      "2023-03-04 08:18:04 (4.37 MB/s) - ‘./data/annotations_trainval2014.zip’ saved [252872794/252872794]\n",
      "\n",
      "Archive:  ./data/annotations_trainval2014.zip\n",
      "  inflating: ./data/annotations/instances_train2014.json  \n",
      "  inflating: ./data/annotations/instances_val2014.json  \n",
      "  inflating: ./data/annotations/person_keypoints_train2014.json  \n",
      "  inflating: ./data/annotations/person_keypoints_val2014.json  \n",
      "  inflating: ./data/annotations/captions_train2014.json  \n",
      "  inflating: ./data/annotations/captions_val2014.json  \n"
     ]
    }
   ],
   "source": [
    "#make directory and get annotations for training and testing\n",
    "!mkdir data\n",
    "# !wget http://msvocds.blob.core.windows.net/annotations-1-0-3/captions_train-val2014.zip -P ./data/\n",
    "!wget http://images.cocodataset.org/annotations/annotations_trainval2014.zip -P ./data/\n",
    "\n",
    "!unzip ./data/annotations_trainval2014.zip -d ./data/\n",
    "!rm ./data/annotations_trainval2014.zip"
   ]
  },
  {
   "cell_type": "code",
   "execution_count": 4,
   "metadata": {},
   "outputs": [],
   "source": [
    "!mkdir data/images\n",
    "!mkdir data/images/train\n",
    "!mkdir data/images/val\n",
    "!mkdir data/images/test"
   ]
  },
  {
   "cell_type": "code",
   "execution_count": 5,
   "metadata": {},
   "outputs": [
    {
     "name": "stdout",
     "output_type": "stream",
     "text": [
      "loading annotations into memory...\n",
      "Done (t=0.81s)\n",
      "creating index...\n",
      "index created!\n"
     ]
    }
   ],
   "source": [
    "coco = COCO('./data/annotations/captions_train2014.json')"
   ]
  },
  {
   "cell_type": "code",
   "execution_count": 6,
   "metadata": {},
   "outputs": [],
   "source": [
    "#get ids of training images\n",
    "with open('train_ids.csv', 'r') as f:\n",
    "    reader = csv.reader(f)\n",
    "    trainIds = list(reader)\n",
    "    \n",
    "trainIds = [int(i) for i in trainIds[0]]\n",
    "# trainIds = trainIds[:11000]\n",
    "with open('val_ids.csv', 'r') as f:\n",
    "    reader = csv.reader(f)\n",
    "    valIds = list(reader)\n",
    "    \n",
    "valIds = [int(i) for i in valIds[0]]"
   ]
  },
  {
   "cell_type": "code",
   "execution_count": 7,
   "metadata": {},
   "outputs": [],
   "source": [
    "for img_id in trainIds:\n",
    "    path = coco.loadImgs(img_id)[0]['file_name']\n",
    "    copyfile('/datasets/COCO-2015/train2014/'+path, './data/images/train/'+path)\n",
    "for img_id in valIds:\n",
    "    path = coco.loadImgs(img_id)[0]['file_name']\n",
    "    copyfile('/datasets/COCO-2015/train2014/'+path, './data/images/val/'+path)"
   ]
  },
  {
   "cell_type": "code",
   "execution_count": 8,
   "metadata": {},
   "outputs": [
    {
     "name": "stdout",
     "output_type": "stream",
     "text": [
      "loading annotations into memory...\n",
      "Done (t=0.51s)\n",
      "creating index...\n",
      "index created!\n"
     ]
    }
   ],
   "source": [
    "cocoTest = COCO('./data/annotations/captions_val2014.json')"
   ]
  },
  {
   "cell_type": "code",
   "execution_count": 9,
   "metadata": {},
   "outputs": [],
   "source": [
    "with open('test_ids.csv', 'r') as f:\n",
    "    reader = csv.reader(f)\n",
    "    testIds = list(reader)\n",
    "    \n",
    "testIds = [int(i) for i in testIds[0]]"
   ]
  },
  {
   "cell_type": "code",
   "execution_count": 10,
   "metadata": {},
   "outputs": [],
   "source": [
    "for img_id in testIds:\n",
    "    path = cocoTest.loadImgs(img_id)[0]['file_name']\n",
    "    copyfile('/datasets/COCO-2015/val2014/'+path, './data/images/test/'+path)"
   ]
  },
  {
   "cell_type": "code",
   "execution_count": 11,
   "metadata": {},
   "outputs": [
    {
     "name": "stdout",
     "output_type": "stream",
     "text": [
      "done\n"
     ]
    }
   ],
   "source": [
    "print(\"done\")"
   ]
  },
  {
   "cell_type": "code",
   "execution_count": null,
   "metadata": {},
   "outputs": [],
   "source": []
  }
 ],
 "metadata": {
  "kernelspec": {
   "display_name": "Python 3 (ipykernel)",
   "language": "python",
   "name": "python3"
  },
  "language_info": {
   "codemirror_mode": {
    "name": "ipython",
    "version": 3
   },
   "file_extension": ".py",
   "mimetype": "text/x-python",
   "name": "python",
   "nbconvert_exporter": "python",
   "pygments_lexer": "ipython3",
   "version": "3.9.5"
  },
  "vscode": {
   "interpreter": {
    "hash": "981841ff66d5692ecf54c73c337766cfe3036982497a0eaceeaf1fd25ccdf576"
   }
  }
 },
 "nbformat": 4,
 "nbformat_minor": 2
}
